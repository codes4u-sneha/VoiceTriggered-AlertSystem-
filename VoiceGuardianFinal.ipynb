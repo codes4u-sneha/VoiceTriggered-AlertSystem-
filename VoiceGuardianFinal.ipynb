{
 "cells": [
  {
   "cell_type": "code",
   "execution_count": 2,
   "id": "3957ec82-b795-4c0f-b4a6-372e5988def8",
   "metadata": {
    "scrolled": true
   },
   "outputs": [
    {
     "name": "stdout",
     "output_type": "stream",
     "text": [
      "Collecting pipwin\n",
      "  Using cached pipwin-0.5.2.tar.gz (7.9 kB)\n",
      "  Preparing metadata (setup.py): started\n",
      "  Preparing metadata (setup.py): finished with status 'done'\n",
      "Collecting docopt (from pipwin)\n",
      "  Using cached docopt-0.6.2.tar.gz (25 kB)\n",
      "  Preparing metadata (setup.py): started\n",
      "  Preparing metadata (setup.py): finished with status 'done'\n",
      "Requirement already satisfied: requests in c:\\users\\kiit\\anaconda3\\lib\\site-packages (from pipwin) (2.32.3)\n",
      "Collecting pyprind (from pipwin)\n",
      "  Using cached PyPrind-2.11.3-py2.py3-none-any.whl.metadata (1.1 kB)\n",
      "Requirement already satisfied: six in c:\\users\\kiit\\anaconda3\\lib\\site-packages (from pipwin) (1.16.0)\n",
      "Requirement already satisfied: beautifulsoup4>=4.9.0 in c:\\users\\kiit\\anaconda3\\lib\\site-packages (from pipwin) (4.12.3)\n",
      "Collecting js2py (from pipwin)\n",
      "  Using cached Js2Py-0.74-py3-none-any.whl.metadata (868 bytes)\n",
      "Requirement already satisfied: packaging in c:\\users\\kiit\\anaconda3\\lib\\site-packages (from pipwin) (24.1)\n",
      "Collecting pySmartDL>=1.3.1 (from pipwin)\n",
      "  Using cached pySmartDL-1.3.4-py3-none-any.whl.metadata (2.8 kB)\n",
      "Requirement already satisfied: soupsieve>1.2 in c:\\users\\kiit\\anaconda3\\lib\\site-packages (from beautifulsoup4>=4.9.0->pipwin) (2.5)\n",
      "Collecting tzlocal>=1.2 (from js2py->pipwin)\n",
      "  Using cached tzlocal-5.3.1-py3-none-any.whl.metadata (7.6 kB)\n",
      "Collecting pyjsparser>=2.5.1 (from js2py->pipwin)\n",
      "  Using cached pyjsparser-2.7.1.tar.gz (24 kB)\n",
      "  Preparing metadata (setup.py): started\n",
      "  Preparing metadata (setup.py): finished with status 'done'\n",
      "Requirement already satisfied: charset-normalizer<4,>=2 in c:\\users\\kiit\\anaconda3\\lib\\site-packages (from requests->pipwin) (3.3.2)\n",
      "Requirement already satisfied: idna<4,>=2.5 in c:\\users\\kiit\\anaconda3\\lib\\site-packages (from requests->pipwin) (3.7)\n",
      "Requirement already satisfied: urllib3<3,>=1.21.1 in c:\\users\\kiit\\anaconda3\\lib\\site-packages (from requests->pipwin) (2.2.3)\n",
      "Requirement already satisfied: certifi>=2017.4.17 in c:\\users\\kiit\\anaconda3\\lib\\site-packages (from requests->pipwin) (2024.8.30)\n",
      "Requirement already satisfied: tzdata in c:\\users\\kiit\\anaconda3\\lib\\site-packages (from tzlocal>=1.2->js2py->pipwin) (2023.3)\n",
      "Using cached pySmartDL-1.3.4-py3-none-any.whl (20 kB)\n",
      "Using cached Js2Py-0.74-py3-none-any.whl (1.0 MB)\n",
      "Using cached PyPrind-2.11.3-py2.py3-none-any.whl (8.4 kB)\n",
      "Using cached tzlocal-5.3.1-py3-none-any.whl (18 kB)\n",
      "Building wheels for collected packages: pipwin, docopt, pyjsparser\n",
      "  Building wheel for pipwin (setup.py): started\n",
      "  Building wheel for pipwin (setup.py): finished with status 'done'\n",
      "  Created wheel for pipwin: filename=pipwin-0.5.2-py2.py3-none-any.whl size=8795 sha256=b03b09e967d7889aa9a01ab68e30e1237bbbd15a9dc9c236b57358dbe2fec725\n",
      "  Stored in directory: c:\\users\\kiit\\appdata\\local\\pip\\cache\\wheels\\e8\\b5\\1d\\b94f69a230c016fe50ed36399dec48b34b82a11e4f344e9ccb\n",
      "  Building wheel for docopt (setup.py): started\n",
      "  Building wheel for docopt (setup.py): finished with status 'done'\n",
      "  Created wheel for docopt: filename=docopt-0.6.2-py2.py3-none-any.whl size=13775 sha256=06f12b3c44e50d08d87fca844b944c3699ea625b8cb85bbf36601479688677f5\n",
      "  Stored in directory: c:\\users\\kiit\\appdata\\local\\pip\\cache\\wheels\\1a\\bf\\a1\\4cee4f7678c68c5875ca89eaccf460593539805c3906722228\n",
      "  Building wheel for pyjsparser (setup.py): started\n",
      "  Building wheel for pyjsparser (setup.py): finished with status 'done'\n",
      "  Created wheel for pyjsparser: filename=pyjsparser-2.7.1-py3-none-any.whl size=25989 sha256=062e1f45b7858ad90e5f77a40fbde73dfb21849ac2e8b3cef6120960da12d3db\n",
      "  Stored in directory: c:\\users\\kiit\\appdata\\local\\pip\\cache\\wheels\\14\\32\\1d\\9ef7b582e358446aeef4b9052aa89ef4dffa1688c1aae8aa13\n",
      "Successfully built pipwin docopt pyjsparser\n",
      "Installing collected packages: pySmartDL, pyprind, pyjsparser, docopt, tzlocal, js2py, pipwin\n",
      "Successfully installed docopt-0.6.2 js2py-0.74 pipwin-0.5.2 pySmartDL-1.3.4 pyjsparser-2.7.1 pyprind-2.11.3 tzlocal-5.3.1\n"
     ]
    },
    {
     "name": "stderr",
     "output_type": "stream",
     "text": [
      "Traceback (most recent call last):\n",
      "  File \"<frozen runpy>\", line 198, in _run_module_as_main\n",
      "  File \"<frozen runpy>\", line 88, in _run_code\n",
      "  File \"C:\\Users\\KIIT\\anaconda3\\Scripts\\pipwin.exe\\__main__.py\", line 4, in <module>\n",
      "  File \"C:\\Users\\KIIT\\anaconda3\\Lib\\site-packages\\pipwin\\command.py\", line 28, in <module>\n",
      "    from . import pipwin, __version__\n",
      "  File \"C:\\Users\\KIIT\\anaconda3\\Lib\\site-packages\\pipwin\\pipwin.py\", line 13, in <module>\n",
      "    import js2py\n",
      "  File \"C:\\Users\\KIIT\\anaconda3\\Lib\\site-packages\\js2py\\__init__.py\", line 72, in <module>\n",
      "    from .base import PyJsException\n",
      "  File \"C:\\Users\\KIIT\\anaconda3\\Lib\\site-packages\\js2py\\base.py\", line 2965, in <module>\n",
      "    @Js\n",
      "     ^^\n",
      "  File \"C:\\Users\\KIIT\\anaconda3\\Lib\\site-packages\\js2py\\base.py\", line 165, in Js\n",
      "    return PyJsFunction(val, FunctionPrototype)\n",
      "           ^^^^^^^^^^^^^^^^^^^^^^^^^^^^^^^^^^^^\n",
      "  File \"C:\\Users\\KIIT\\anaconda3\\Lib\\site-packages\\js2py\\base.py\", line 1377, in __init__\n",
      "    cand = fix_js_args(func)\n",
      "           ^^^^^^^^^^^^^^^^^\n",
      "  File \"C:\\Users\\KIIT\\anaconda3\\Lib\\site-packages\\js2py\\utils\\injector.py\", line 27, in fix_js_args\n",
      "    code = append_arguments(six.get_function_code(func), ('this', 'arguments'))\n",
      "           ^^^^^^^^^^^^^^^^^^^^^^^^^^^^^^^^^^^^^^^^^^^^^^^^^^^^^^^^^^^^^^^^^^^^\n",
      "  File \"C:\\Users\\KIIT\\anaconda3\\Lib\\site-packages\\js2py\\utils\\injector.py\", line 121, in append_arguments\n",
      "    arg = name_translations[inst.arg]\n",
      "          ~~~~~~~~~~~~~~~~~^^^^^^^^^^\n",
      "KeyError: 3\n"
     ]
    }
   ],
   "source": [
    "!pip install pipwin\n",
    "!pipwin install pyaudio"
   ]
  },
  {
   "cell_type": "code",
   "execution_count": 2,
   "id": "e399c2a9-2a31-41e4-9cd9-6f969bc3b824",
   "metadata": {},
   "outputs": [
    {
     "name": "stdout",
     "output_type": "stream",
     "text": [
      "Requirement already satisfied: SpeechRecognition in c:\\users\\kiit\\anaconda3\\lib\\site-packages (3.14.2)\n",
      "Requirement already satisfied: typing-extensions in c:\\users\\kiit\\anaconda3\\lib\\site-packages (from SpeechRecognition) (4.11.0)\n"
     ]
    }
   ],
   "source": [
    "!pip install SpeechRecognition"
   ]
  },
  {
   "cell_type": "code",
   "execution_count": 3,
   "id": "3726ddfd-f03b-4329-a79d-be4c8e2e145b",
   "metadata": {},
   "outputs": [
    {
     "name": "stdout",
     "output_type": "stream",
     "text": [
      "Collecting pyttsx3\n",
      "  Downloading pyttsx3-2.98-py3-none-any.whl.metadata (3.8 kB)\n",
      "Collecting comtypes (from pyttsx3)\n",
      "  Downloading comtypes-1.4.10-py3-none-any.whl.metadata (7.2 kB)\n",
      "Collecting pypiwin32 (from pyttsx3)\n",
      "  Downloading pypiwin32-223-py3-none-any.whl.metadata (236 bytes)\n",
      "Requirement already satisfied: pywin32 in c:\\users\\kiit\\anaconda3\\lib\\site-packages (from pyttsx3) (305.1)\n",
      "Downloading pyttsx3-2.98-py3-none-any.whl (34 kB)\n",
      "Downloading comtypes-1.4.10-py3-none-any.whl (241 kB)\n",
      "Downloading pypiwin32-223-py3-none-any.whl (1.7 kB)\n",
      "Installing collected packages: pypiwin32, comtypes, pyttsx3\n",
      "Successfully installed comtypes-1.4.10 pypiwin32-223 pyttsx3-2.98\n"
     ]
    }
   ],
   "source": [
    "!pip install pyttsx3"
   ]
  },
  {
   "cell_type": "code",
   "execution_count": 4,
   "id": "c3b03148-fd8c-4875-aa6d-b9763194e142",
   "metadata": {},
   "outputs": [
    {
     "name": "stdout",
     "output_type": "stream",
     "text": [
      "Collecting pyaudio\n",
      "  Downloading PyAudio-0.2.14-cp312-cp312-win_amd64.whl.metadata (2.7 kB)\n",
      "Downloading PyAudio-0.2.14-cp312-cp312-win_amd64.whl (164 kB)\n",
      "Installing collected packages: pyaudio\n",
      "Successfully installed pyaudio-0.2.14\n"
     ]
    }
   ],
   "source": [
    "!pip install pyaudio"
   ]
  },
  {
   "cell_type": "code",
   "execution_count": 1,
   "id": "928f333a-2707-4dd1-9019-f8705762b8f5",
   "metadata": {},
   "outputs": [
    {
     "name": "stdout",
     "output_type": "stream",
     "text": [
      "Listening... please speak now.\n",
      "Could not understand audio.\n"
     ]
    }
   ],
   "source": [
    "import speech_recognition as sr\n",
    "import pyttsx3\n",
    "\n",
    "recognizer = sr.Recognizer()\n",
    "engine = pyttsx3.init()\n",
    "\n",
    "print(\"Listening... please speak now.\")\n",
    "\n",
    "with sr.Microphone() as source:\n",
    "    audio = recognizer.listen(source)\n",
    "\n",
    "try:\n",
    "    text = recognizer.recognize_google(audio).lower()\n",
    "    print(\"You said:\", text)\n",
    "\n",
    "    if \"otp\" in text or \"yes\" in text:\n",
    "        print(\"WARNING: Possible fraud trigger detected!\")\n",
    "        engine.say(\"Alert! OTP detected. Please be careful.\")\n",
    "        engine.runAndWait()\n",
    "    else:\n",
    "        print(\"No risky words detected.\")\n",
    "\n",
    "except sr.UnknownValueError:\n",
    "    print(\"Could not understand audio.\")\n",
    "except sr.RequestError:\n",
    "    print(\"Could not request results; check your internet connection.\")\n"
   ]
  },
  {
   "cell_type": "code",
   "execution_count": 7,
   "id": "22022f23-16b8-4a08-b9a0-4acb839937f2",
   "metadata": {},
   "outputs": [
    {
     "ename": "SyntaxError",
     "evalue": "invalid non-printable character U+00A0 (1922295261.py, line 10)",
     "output_type": "error",
     "traceback": [
      "\u001b[1;36m  Cell \u001b[1;32mIn[7], line 10\u001b[1;36m\u001b[0m\n\u001b[1;33m    - Built with Python using SpeechRecognition & pyttsx3\u001b[0m\n\u001b[1;37m                                               ^\u001b[0m\n\u001b[1;31mSyntaxError\u001b[0m\u001b[1;31m:\u001b[0m invalid non-printable character U+00A0\n"
     ]
    }
   ],
   "source": [
    "# VoiceGuardian - Voice-Based Fraud Detection System\n",
    "\n",
    "VoiceGuardian is a real-time voice fraud alert system designed to detect risky phrases like \"OTP\", \"yes\", or secret confirmation words.  \n",
    "Once such words are detected, it immediately triggers an on-screen and voice alert to prevent digital scams.\n",
    "\n",
    "*Features:*\n",
    "- Listens to voice input using microphone\n",
    "- Detects keywords like \"OTP\", \"yes\", etc.\n",
    "- Provides audio + text warning alert\n",
    "- Built with Python using SpeechRecognition & pyttsx3"
   ]
  },
  {
   "cell_type": "markdown",
   "id": "08336184-8050-455d-8782-59c4f98e2871",
   "metadata": {},
   "source": [
    "# VoiceGuardian - Voice-Based Fraud Detection System\n",
    "\n",
    "VoiceGuardian is a real-time voice fraud alert system designed to detect risky phrases like “OTP”, “yes”, etc.  \n",
    "Once such words are detected, it immediately triggers an on-screen and voice alert to prevent digital scams.\n",
    "\n",
    "*Features:*\n",
    "- Listens to voice input using microphone\n",
    "- Detects keywords like “OTP”, “yes”, etc.\n",
    "- Provides audio + text warning alert\n",
    "- Built with Python using SpeechRecognition & pyttsx3"
   ]
  },
  {
   "cell_type": "markdown",
   "id": "aed9fd1c-28ee-4e75-bb52-659a53c190e2",
   "metadata": {},
   "source": [
    "### Project Title: VoiceGuardian  \n",
    "A Voice-Based Fraud Alert System  \n",
    "*By:* Sneha Hota  \n",
    "*Duration:* 3-4 Days  \n",
    "*Tools:* Python, SpeechRecognition, pyttsx3"
   ]
  },
  {
   "cell_type": "code",
   "execution_count": 3,
   "id": "ba286f01-f3a2-4697-9e7f-1569b84c78c2",
   "metadata": {},
   "outputs": [
    {
     "name": "stdout",
     "output_type": "stream",
     "text": [
      "Speak something...\n",
      "You said: can you help me\n",
      ">>> ALERT: Help me detected!\n"
     ]
    }
   ],
   "source": [
    "import speech_recognition as sr\n",
    "\n",
    "recognizer = sr.Recognizer()\n",
    "\n",
    "with sr.Microphone() as source:\n",
    "    print(\"Speak something...\")\n",
    "    audio = recognizer.listen(source)\n",
    "\n",
    "try:\n",
    "    text = recognizer.recognize_google(audio)\n",
    "    print(\"You said:\", text)\n",
    "\n",
    "    if \"help me\" in text.lower():\n",
    "        print(\">>> ALERT: Help me detected!\")\n",
    "    else:\n",
    "        print(\"No danger word found.\")\n",
    "\n",
    "except:\n",
    "    print(\"Sorry, couldn't understand.\")\n"
   ]
  },
  {
   "cell_type": "code",
   "execution_count": 4,
   "id": "f9672e7f-be08-427a-a2e8-93ed4595f79d",
   "metadata": {},
   "outputs": [
    {
     "name": "stdout",
     "output_type": "stream",
     "text": [
      "Location Details:\n",
      "City: Bhubaneswar\n",
      "Region: Odisha\n",
      "Country: IN\n",
      "Coordinates: 20.2724,85.8338\n"
     ]
    }
   ],
   "source": [
    "import requests\n",
    "\n",
    "def get_location():\n",
    "    response = requests.get(\"https://ipinfo.io\")\n",
    "    data = response.json()\n",
    "    \n",
    "    city = data.get(\"city\")\n",
    "    region = data.get(\"region\")\n",
    "    country = data.get(\"country\")\n",
    "    loc = data.get(\"loc\")  # latitude,longitude\n",
    "    \n",
    "    print(\"Location Details:\")\n",
    "    print(\"City:\", city)\n",
    "    print(\"Region:\", region)\n",
    "    print(\"Country:\", country)\n",
    "    print(\"Coordinates:\", loc)\n",
    "\n",
    "get_location()"
   ]
  },
  {
   "cell_type": "code",
   "execution_count": 7,
   "id": "c59184ba-6014-40e0-a95e-cdcf8f94afd0",
   "metadata": {},
   "outputs": [
    {
     "name": "stdout",
     "output_type": "stream",
     "text": [
      "Speak...\n",
      "You said: help me\n",
      "ALERT! Sneha needs help at Bhubaneswar, Odisha.\n"
     ]
    }
   ],
   "source": [
    "import requests, speech_recognition as sr\n",
    "\n",
    "# Mic se suno\n",
    "r = sr.Recognizer()\n",
    "with sr.Microphone() as source:\n",
    "    print(\"Speak...\")\n",
    "    audio = r.listen(source)\n",
    "\n",
    "try:\n",
    "    text = r.recognize_google(audio)\n",
    "    print(\"You said:\", text)\n",
    "\n",
    "    if \"help me\" in text.lower():\n",
    "        loc = requests.get(\"https://ipinfo.io\").json()\n",
    "        place = loc.get(\"city\") + \", \" + loc.get(\"region\")\n",
    "        print(f\"ALERT! Sneha needs help at {place}.\")\n",
    "    else:\n",
    "        print(\"No danger detected.\")\n",
    "\n",
    "except:\n",
    "    print(\"Could not understand.\")"
   ]
  },
  {
   "cell_type": "code",
   "execution_count": 8,
   "id": "1e69b21c-b191-459c-a440-0fc125d08afe",
   "metadata": {},
   "outputs": [
    {
     "name": "stdout",
     "output_type": "stream",
     "text": [
      "Speak...\n",
      "Could not understand.\n"
     ]
    }
   ],
   "source": [
    "import requests, speech_recognition as sr\n",
    "\n",
    "r = sr.Recognizer()\n",
    "with sr.Microphone() as source:\n",
    "    print(\"Speak...\")\n",
    "    audio = r.listen(source)\n",
    "\n",
    "try:\n",
    "    text = r.recognize_google(audio)\n",
    "    if \"help me\" in text.lower():\n",
    "        loc = requests.get(\"https://ipinfo.io\").json()\n",
    "        print(f\"ALERT! Sneha needs help at {loc['city']}, {loc['region']}\")\n",
    "    else:\n",
    "        print(\"No danger detected.\")\n",
    "except:\n",
    "    print(\"Could not understand.\")"
   ]
  },
  {
   "cell_type": "code",
   "execution_count": 9,
   "id": "6a02fc73-c447-4de5-9471-1402b17abc50",
   "metadata": {},
   "outputs": [
    {
     "name": "stdout",
     "output_type": "stream",
     "text": [
      "Speak...\n",
      "ALERT! Sneha needs help at Bhubaneswar, Odisha\n"
     ]
    }
   ],
   "source": [
    "import requests, speech_recognition as sr\n",
    "\n",
    "r = sr.Recognizer()\n",
    "with sr.Microphone() as source:\n",
    "    print(\"Speak...\")\n",
    "    audio = r.listen(source)\n",
    "\n",
    "try:\n",
    "    text = r.recognize_google(audio)\n",
    "    if \"help me\" in text.lower():\n",
    "        loc = requests.get(\"https://ipinfo.io\").json()\n",
    "        print(f\"ALERT! Sneha needs help at {loc['city']}, {loc['region']}\")\n",
    "    else:\n",
    "        print(\"No danger detected.\")\n",
    "except:\n",
    "    print(\"Could not understand.\")"
   ]
  },
  {
   "cell_type": "code",
   "execution_count": null,
   "id": "aec868ec-a879-4625-96e1-3ec87b16f122",
   "metadata": {},
   "outputs": [],
   "source": []
  }
 ],
 "metadata": {
  "kernelspec": {
   "display_name": "Python [conda env:base] *",
   "language": "python",
   "name": "conda-base-py"
  },
  "language_info": {
   "codemirror_mode": {
    "name": "ipython",
    "version": 3
   },
   "file_extension": ".py",
   "mimetype": "text/x-python",
   "name": "python",
   "nbconvert_exporter": "python",
   "pygments_lexer": "ipython3",
   "version": "3.12.7"
  }
 },
 "nbformat": 4,
 "nbformat_minor": 5
}
